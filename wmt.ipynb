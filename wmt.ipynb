{
 "cells": [
  {
   "cell_type": "code",
   "execution_count": null,
   "metadata": {},
   "outputs": [],
   "source": [
    "import warnings\n",
    "import numpy as np\n",
    "import pandas as pd\n",
    "from fbprophet import Prophet\n",
    "import matplotlib.pyplot as plt\n",
    "from fbprophet.diagnostics import cross_validation\n",
    "from fbprophet.diagnostics import performance_metrics\n",
    "from fbprophet.plot import plot_cross_validation_metric\n",
    "\n",
    "# don't do this \n",
    "warnings.filterwarnings('ignore')\n",
    "# \"high resolution\"\n",
    "%config InlineBackend.figure_format = 'retina'"
   ]
  },
  {
   "cell_type": "code",
   "execution_count": null,
   "metadata": {},
   "outputs": [],
   "source": [
    "# load walmart ($wmt) historical stock data\n",
    "wmt = pd.read_csv('data/WMT.csv')"
   ]
  },
  {
   "cell_type": "code",
   "execution_count": null,
   "metadata": {},
   "outputs": [],
   "source": [
    "# what's the sitch\n",
    "wmt.info()"
   ]
  },
  {
   "cell_type": "code",
   "execution_count": null,
   "metadata": {},
   "outputs": [],
   "source": [
    "# tell me about it\n",
    "wmt.describe()"
   ]
  },
  {
   "cell_type": "code",
   "execution_count": null,
   "metadata": {},
   "outputs": [],
   "source": [
    "# let's see\n",
    "wmt.head()"
   ]
  },
  {
   "cell_type": "code",
   "execution_count": null,
   "metadata": {},
   "outputs": [],
   "source": [
    "# forege new dataframe with date and adjusted closing price\n",
    "wmt = wmt[['Date','Adj Close']]\n",
    "# adjust column names for prophet compliance\n",
    "wmt.columns = ['ds','y']\n",
    "# convert dates from string to datetime\n",
    "wmt.ds = pd.to_datetime(wmt.ds)\n",
    "\n",
    "# display adjustments\n",
    "wmt.tail()"
   ]
  },
  {
   "cell_type": "code",
   "execution_count": null,
   "metadata": {},
   "outputs": [],
   "source": [
    "# frame up w/ grid\n",
    "plt.figure(figsize=(16,4))\n",
    "plt.grid(linestyle='-.')\n",
    "\n",
    "# sketch in data\n",
    "plt.plot(wmt.ds, wmt.y, 'b')\n",
    "\n",
    "# set title & labels\n",
    "plt.title('$WMT Adj. Closing', fontsize=18)\n",
    "plt.ylabel('Price ($)', fontsize=13)\n",
    "plt.xlabel('Time (year)', fontsize=13)\n",
    "\n",
    "# display graph\n",
    "plt.show()"
   ]
  },
  {
   "cell_type": "code",
   "execution_count": null,
   "metadata": {},
   "outputs": [],
   "source": [
    "# set prophet model \n",
    "prophet = Prophet(changepoint_prior_scale=0.05, daily_seasonality=False,)\n",
    "# fit $wmt data to model\n",
    "prophet.fit(wmt)\n",
    "# build future dataframe for 5 years\n",
    "build_forecast = prophet.make_future_dataframe(periods=365*5, freq='D')\n",
    "# forecast future df with model\n",
    "forecast = prophet.predict(build_forecast)\n",
    "\n",
    "# plot forecasts\n",
    "prophet.plot(forecast, xlabel='Date', ylabel='Share Price ($)')\n",
    "plt.title('Walmart Stock Price ($WMT)')\n",
    "plt.show()"
   ]
  },
  {
   "cell_type": "code",
   "execution_count": null,
   "metadata": {},
   "outputs": [],
   "source": [
    "# tell us more about the forecast\n",
    "components = prophet.plot_components(forecast)"
   ]
  },
  {
   "cell_type": "code",
   "execution_count": null,
   "metadata": {},
   "outputs": [],
   "source": [
    "future_preds = forecast.loc[forecast.ds>'2019-07-02']\n",
    "future_preds = future_preds[['ds','yhat','yhat_lower','yhat_upper']]\n",
    "future_preds.sample(5)"
   ]
  },
  {
   "cell_type": "code",
   "execution_count": null,
   "metadata": {},
   "outputs": [],
   "source": [
    "# cross validate 1 year every half year at 30 years\n",
    "wmt_cv = cross_validation(prophet, initial='10950 days', period='180 days', horizon = '365 days')"
   ]
  },
  {
   "cell_type": "code",
   "execution_count": null,
   "metadata": {},
   "outputs": [],
   "source": [
    "# example output \n",
    "wmt_cv.head()"
   ]
  },
  {
   "cell_type": "code",
   "execution_count": null,
   "metadata": {},
   "outputs": [],
   "source": [
    "# 1 year at 30 years\n",
    "wmt_pm = performance_metrics(wmt_cv)"
   ]
  },
  {
   "cell_type": "code",
   "execution_count": null,
   "metadata": {},
   "outputs": [],
   "source": [
    "wmt_pm.tail(3)"
   ]
  },
  {
   "cell_type": "code",
   "execution_count": null,
   "metadata": {},
   "outputs": [],
   "source": [
    "# visualize mape across horizion (continued sort)\n",
    "fig = plot_cross_validation_metric(wmt_cv, metric='mape')"
   ]
  },
  {
   "cell_type": "code",
   "execution_count": null,
   "metadata": {},
   "outputs": [],
   "source": [
    "# where did prophet identify changepoints\n",
    "prophet.changepoints"
   ]
  }
 ],
 "metadata": {
  "kernelspec": {
   "display_name": "Python 3",
   "language": "python",
   "name": "python3"
  },
  "language_info": {
   "codemirror_mode": {
    "name": "ipython",
    "version": 3
   },
   "file_extension": ".py",
   "mimetype": "text/x-python",
   "name": "python",
   "nbconvert_exporter": "python",
   "pygments_lexer": "ipython3",
   "version": "3.7.2"
  }
 },
 "nbformat": 4,
 "nbformat_minor": 2
}
